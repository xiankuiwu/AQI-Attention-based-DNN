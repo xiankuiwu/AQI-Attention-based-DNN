{
 "cells": [
  {
   "cell_type": "code",
   "execution_count": 1,
   "id": "a5c95663",
   "metadata": {},
   "outputs": [],
   "source": [
    "import numpy as np\n",
    "import matplotlib.pyplot as plt\n",
    "from scipy.interpolate import griddata\n",
    "import pandas as pd\n",
    "import seaborn as sns\n",
    "import os,glob\n",
    "plt.rc('font',family='Times New Roman')\n",
    "# from matplotlib._cm_listed import cmaps"
   ]
  },
  {
   "cell_type": "code",
   "execution_count": 2,
   "outputs": [],
   "source": [
    "cmaps = [\n",
    "    (\n",
    "        'Perceptually Uniform Sequential', ['viridis', 'plasma', 'inferno', 'magma']\n",
    "    ),\n",
    "    (\n",
    "        'Sequential', [\n",
    "            'Greys', 'Purples', 'Blues', 'Greens', 'Oranges', 'Reds',\n",
    "            'YlOrBr', 'YlOrRd', 'OrRd', 'PuRd', 'RdPu', 'BuPu',\n",
    "            'GnBu', 'PuBu', 'YlGnBu', 'PuBuGn', 'BuGn', 'YlGn'\n",
    "        ]\n",
    "    ),\n",
    "    (\n",
    "        'Sequential (2)', [\n",
    "            'binary', 'gist_yarg', 'gist_gray', 'gray', 'bone', 'pink',\n",
    "            'spring', 'summer', 'autumn', 'winter', 'cool', 'Wistia',\n",
    "            'hot', 'afmhot', 'gist_heat', 'copper'\n",
    "        ]\n",
    "     ),\n",
    "    (\n",
    "        'Diverging', [\n",
    "            'PiYG', 'PRGn', 'BrBG', 'PuOr', 'RdGy', 'RdBu',\n",
    "            'RdYlBu', 'RdYlGn', 'Spectral', 'coolwarm', 'bwr', 'seismic'\n",
    "        ]\n",
    "    ),\n",
    "    (\n",
    "        'Qualitative', [\n",
    "            'Pastel1', 'Pastel2', 'Paired', 'Accent',\n",
    "            'Dark2', 'Set1', 'Set2', 'Set3',\n",
    "            'tab10', 'tab20', 'tab20b', 'tab20c'\n",
    "        ]\n",
    "    ),\n",
    "    (\n",
    "        'Miscellaneous', [\n",
    "            'flag', 'prism', 'ocean', 'gist_earth', 'terrain', 'gist_stern',\n",
    "            'gnuplot', 'gnuplot2', 'CMRmap', 'cubehelix', 'brg', 'hsv',\n",
    "            'gist_rainbow', 'rainbow', 'jet', 'nipy_spectral', 'gist_ncar'\n",
    "        ]\n",
    "    )\n",
    "    ]"
   ],
   "metadata": {
    "collapsed": false,
    "pycharm": {
     "name": "#%%\n"
    }
   }
  },
  {
   "cell_type": "code",
   "execution_count": 4,
   "id": "536ed187",
   "metadata": {},
   "outputs": [
    {
     "name": "stdout",
     "output_type": "stream",
     "text": [
      "            AQI     PM2.5      PM10       NO2       SO2        CO     O3_8h\n",
      "AQI    1.000000  0.878866  0.796832  0.641797  0.467616  0.733509  0.214252\n",
      "PM2.5  0.878866  1.000000  0.852686  0.777424  0.558715  0.851532 -0.077237\n",
      "PM10   0.796832  0.852686  1.000000  0.737463  0.545340  0.726826 -0.017594\n",
      "NO2    0.641797  0.777424  0.737463  1.000000  0.621960  0.798730 -0.307256\n",
      "SO2    0.467616  0.558715  0.545340  0.621960  1.000000  0.654606 -0.232205\n",
      "CO     0.733509  0.851532  0.726826  0.798730  0.654606  1.000000 -0.245200\n",
      "O3_8h  0.214252 -0.077237 -0.017594 -0.307256 -0.232205 -0.245200  1.000000\n",
      "            AQI     PM2.5      PM10       NO2       SO2        CO     O3_8h\n",
      "AQI    1.000000  0.687373  0.725556  0.573097  0.498389  0.373073  0.710407\n",
      "PM2.5  0.687373  1.000000  0.949827  0.775162  0.742024  0.716598  0.211477\n",
      "PM10   0.725556  0.949827  1.000000  0.815062  0.700546  0.651607  0.301922\n",
      "NO2    0.573097  0.775162  0.815062  1.000000  0.579799  0.656881  0.090761\n",
      "SO2    0.498389  0.742024  0.700546  0.579799  1.000000  0.533788  0.170110\n",
      "CO     0.373073  0.716598  0.651607  0.656881  0.533788  1.000000 -0.151370\n",
      "O3_8h  0.710407  0.211477  0.301922  0.090761  0.170110 -0.151370  1.000000\n",
      "            AQI     PM2.5      PM10       NO2       SO2        CO     O3_8h\n",
      "AQI    1.000000  0.787496  0.758629  0.523376  0.487208  0.683667  0.040973\n",
      "PM2.5  0.787496  1.000000  0.917506  0.715206  0.623359  0.861678 -0.316747\n",
      "PM10   0.758629  0.917506  1.000000  0.735149  0.667902  0.786645 -0.241340\n",
      "NO2    0.523376  0.715206  0.735149  1.000000  0.636902  0.763937 -0.436614\n",
      "SO2    0.487208  0.623359  0.667902  0.636902  1.000000  0.651913 -0.326233\n",
      "CO     0.683667  0.861678  0.786645  0.763937  0.651913  1.000000 -0.419797\n",
      "O3_8h  0.040973 -0.316747 -0.241340 -0.436614 -0.326233 -0.419797  1.000000\n",
      "            AQI     PM2.5      PM10       NO2       SO2        CO     O3_8h\n",
      "AQI    1.000000  0.838936  0.788758  0.580132  0.446178  0.675778  0.074595\n",
      "PM2.5  0.838936  1.000000  0.892528  0.743098  0.560419  0.807450 -0.237749\n",
      "PM10   0.788758  0.892528  1.000000  0.709083  0.611474  0.743314 -0.217715\n",
      "NO2    0.580132  0.743098  0.709083  1.000000  0.607248  0.752590 -0.453808\n",
      "SO2    0.446178  0.560419  0.611474  0.607248  1.000000  0.686389 -0.340889\n",
      "CO     0.675778  0.807450  0.743314  0.752590  0.686389  1.000000 -0.323257\n",
      "O3_8h  0.074595 -0.237749 -0.217715 -0.453808 -0.340889 -0.323257  1.000000\n"
     ]
    }
   ],
   "source": [
    "for file in glob.glob('*.xlsx'):\n",
    "    data_ini = pd.read_excel(file)\n",
    "    data = data_ini.iloc[:,[1,3,4,5,6,7,8]]\n",
    "\n",
    "    df_corr = data.corr()\n",
    "    print(df_corr)\n",
    "\n",
    "    plt.title(f'{file.replace(\".xlsx\",\"\")}')\n",
    "    c = plt.pcolormesh(df_corr, cmap=cmaps[3][1][2], shading='gouraud',vmax=1,vmin=-1)\n",
    "    plt.colorbar(c)\n",
    "    plt.xlabel('x')\n",
    "    plt.ylabel('y')\n",
    "    plt.xticks(range(len(df_corr)),df_corr.columns)\n",
    "    plt.yticks(range(len(df_corr)),df_corr.columns)\n",
    "    plt.savefig(f'{file.replace(\".xlsx\",\"\")}.pdf')\n",
    "    plt.close()"
   ]
  },
  {
   "cell_type": "code",
   "execution_count": null,
   "outputs": [],
   "source": [],
   "metadata": {
    "collapsed": false,
    "pycharm": {
     "name": "#%%\n"
    }
   }
  }
 ],
 "metadata": {
  "kernelspec": {
   "display_name": "Python 3 (ipykernel)",
   "language": "python",
   "name": "python3"
  },
  "language_info": {
   "codemirror_mode": {
    "name": "ipython",
    "version": 3
   },
   "file_extension": ".py",
   "mimetype": "text/x-python",
   "name": "python",
   "nbconvert_exporter": "python",
   "pygments_lexer": "ipython3",
   "version": "3.11.4"
  }
 },
 "nbformat": 4,
 "nbformat_minor": 5
}